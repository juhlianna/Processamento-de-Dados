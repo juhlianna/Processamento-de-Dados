{
  "nbformat": 4,
  "nbformat_minor": 0,
  "metadata": {
    "colab": {
      "name": "Processamento de dados.ipynb",
      "provenance": [],
      "authorship_tag": "ABX9TyNVkCC7uipYnkyX/zDhQJ6E",
      "include_colab_link": true
    },
    "kernelspec": {
      "name": "python3",
      "display_name": "Python 3"
    },
    "language_info": {
      "name": "python"
    }
  },
  "cells": [
    {
      "cell_type": "markdown",
      "metadata": {
        "id": "view-in-github",
        "colab_type": "text"
      },
      "source": [
        "<a href=\"https://colab.research.google.com/github/juhlianna/Processamento-de-Dados/blob/main/Processamento_de_dados.ipynb\" target=\"_parent\"><img src=\"https://colab.research.google.com/assets/colab-badge.svg\" alt=\"Open In Colab\"/></a>"
      ]
    },
    {
      "cell_type": "markdown",
      "source": [
        "Olá Mundo!"
      ],
      "metadata": {
        "id": "TX-WoGSw0Kmk"
      }
    },
    {
      "cell_type": "code",
      "execution_count": null,
      "metadata": {
        "colab": {
          "base_uri": "https://localhost:8080/"
        },
        "id": "WCDWiAbW0B9y",
        "outputId": "00fc7515-039d-4f47-cd56-8f68519cf659"
      },
      "outputs": [
        {
          "output_type": "stream",
          "name": "stdout",
          "text": [
            "Olá Mundo!\n"
          ]
        }
      ],
      "source": [
        "print(\"Olá Mundo!\")"
      ]
    },
    {
      "cell_type": "markdown",
      "source": [
        "Operações Aritméticas"
      ],
      "metadata": {
        "id": "tNXWODp40cVa"
      }
    },
    {
      "cell_type": "code",
      "source": [
        "print(2+3)"
      ],
      "metadata": {
        "colab": {
          "base_uri": "https://localhost:8080/"
        },
        "id": "_uAsGIoo0bcK",
        "outputId": "bb6f9a1b-3a09-499c-fc93-6493e272780b"
      },
      "execution_count": null,
      "outputs": [
        {
          "output_type": "stream",
          "name": "stdout",
          "text": [
            "5\n"
          ]
        }
      ]
    },
    {
      "cell_type": "markdown",
      "source": [
        "O que acontece aqui?"
      ],
      "metadata": {
        "id": "lcfyhYVr0s2B"
      }
    },
    {
      "cell_type": "code",
      "source": [
        "print(\"2 + 3\")"
      ],
      "metadata": {
        "colab": {
          "base_uri": "https://localhost:8080/"
        },
        "id": "2sUxTOdJ0sey",
        "outputId": "9bced3f4-ba62-4920-de8c-ccec60c486e1"
      },
      "execution_count": null,
      "outputs": [
        {
          "output_type": "stream",
          "name": "stdout",
          "text": [
            "2 + 3\n"
          ]
        }
      ]
    },
    {
      "cell_type": "markdown",
      "source": [
        "Exemplo de Concatenção"
      ],
      "metadata": {
        "id": "e9oN4Yyf07Fb"
      }
    },
    {
      "cell_type": "code",
      "source": [
        "print(\"2\" + \"3\")"
      ],
      "metadata": {
        "colab": {
          "base_uri": "https://localhost:8080/"
        },
        "id": "vodWhHWS0zN5",
        "outputId": "47787379-c511-4b25-9e03-787513455ea3"
      },
      "execution_count": null,
      "outputs": [
        {
          "output_type": "stream",
          "name": "stdout",
          "text": [
            "23\n"
          ]
        }
      ]
    },
    {
      "cell_type": "markdown",
      "source": [
        "Concatenando Mensagens"
      ],
      "metadata": {
        "id": "XnyI_Ppo1Qpx"
      }
    },
    {
      "cell_type": "code",
      "source": [
        "print(\"Olá, \" +\"Mundo!\")\n",
        "print(\"Olá, \" ,\"Mundo!\")\n"
      ],
      "metadata": {
        "colab": {
          "base_uri": "https://localhost:8080/"
        },
        "id": "M3R3fLzI1PNI",
        "outputId": "573c86f6-d3d7-41e7-edc0-5ed23cf686b6"
      },
      "execution_count": null,
      "outputs": [
        {
          "output_type": "stream",
          "name": "stdout",
          "text": [
            "Olá, Mundo!\n",
            "Olá,  Mundo!\n"
          ]
        }
      ]
    },
    {
      "cell_type": "markdown",
      "source": [
        "Concatenando Mensagens e Números"
      ],
      "metadata": {
        "id": "nnJETtEn1-Am"
      }
    },
    {
      "cell_type": "code",
      "source": [
        "print(\"O resultado da soma de 2+3 é:\" , 2+3)"
      ],
      "metadata": {
        "colab": {
          "base_uri": "https://localhost:8080/"
        },
        "id": "38AFiviG12PP",
        "outputId": "9f9393a9-a0af-4801-e250-c93842ae38c9"
      },
      "execution_count": null,
      "outputs": [
        {
          "output_type": "stream",
          "name": "stdout",
          "text": [
            "O resultado da soma de 2+3 é: 5\n"
          ]
        }
      ]
    },
    {
      "cell_type": "markdown",
      "source": [
        "Operações Aritméticas"
      ],
      "metadata": {
        "id": "4x32tejT2o9M"
      }
    },
    {
      "cell_type": "code",
      "source": [
        "print(10*(5+7)/4)\n",
        "print(10*(5+7/4))"
      ],
      "metadata": {
        "colab": {
          "base_uri": "https://localhost:8080/"
        },
        "id": "H6SoJUw42oT8",
        "outputId": "6e05b029-f613-43f6-e8c3-4aaa08171814"
      },
      "execution_count": null,
      "outputs": [
        {
          "output_type": "stream",
          "name": "stdout",
          "text": [
            "30.0\n",
            "67.5\n"
          ]
        }
      ]
    },
    {
      "cell_type": "markdown",
      "source": [
        "Variáveis, dados e seus tipos"
      ],
      "metadata": {
        "id": "FKz7fEDI3m2Q"
      }
    },
    {
      "cell_type": "code",
      "source": [
        "nota = 8.5\n",
        "disciplina = \"Lógica de Programação e Algoritmos\"\n",
        "\n",
        "print(nota)\n",
        "print(disciplina)"
      ],
      "metadata": {
        "colab": {
          "base_uri": "https://localhost:8080/"
        },
        "id": "0wbV6KnH3mYJ",
        "outputId": "4cde340e-aed2-4d12-8f96-9761cfc8568e"
      },
      "execution_count": null,
      "outputs": [
        {
          "output_type": "stream",
          "name": "stdout",
          "text": [
            "8.5\n",
            "Lógica de Programação e Algoritmos\n"
          ]
        }
      ]
    },
    {
      "cell_type": "code",
      "source": [
        "print(\"Disciplina: \" , disciplina, \".Nota\" , nota)"
      ],
      "metadata": {
        "colab": {
          "base_uri": "https://localhost:8080/"
        },
        "id": "quAZNSlf39hH",
        "outputId": "49deae8f-5256-4073-c794-4bbb530785c4"
      },
      "execution_count": null,
      "outputs": [
        {
          "output_type": "stream",
          "name": "stdout",
          "text": [
            "Disciplina:  Lógica de Programação e Algoritmos .Nota 8.5\n"
          ]
        }
      ]
    },
    {
      "cell_type": "markdown",
      "source": [
        "Variável Lógica"
      ],
      "metadata": {
        "id": "--qlAQpv6VgY"
      }
    },
    {
      "cell_type": "code",
      "source": [
        "a = 1 #a recebe 1\n",
        "b = 5 #b recebe 5\n",
        "\n",
        "resposta = a == b\n",
        "print(resposta)"
      ],
      "metadata": {
        "colab": {
          "base_uri": "https://localhost:8080/"
        },
        "id": "Xus_bzWk6U0Z",
        "outputId": "c3361bfe-68d4-4a30-a4a7-1ac91ebb9de8"
      },
      "execution_count": null,
      "outputs": [
        {
          "output_type": "stream",
          "name": "stdout",
          "text": [
            "False\n"
          ]
        }
      ]
    },
    {
      "cell_type": "code",
      "source": [
        "resposta = a != b\n",
        "print(resposta)"
      ],
      "metadata": {
        "colab": {
          "base_uri": "https://localhost:8080/"
        },
        "id": "4ImdgVKw7IL2",
        "outputId": "58a82e88-4821-4224-93f5-01e027ac676c"
      },
      "execution_count": null,
      "outputs": [
        {
          "output_type": "stream",
          "name": "stdout",
          "text": [
            "True\n"
          ]
        }
      ]
    },
    {
      "cell_type": "markdown",
      "source": [
        "Variável String"
      ],
      "metadata": {
        "id": "3vlEZvp19mEx"
      }
    },
    {
      "cell_type": "code",
      "source": [
        "frase = \"Olá, mundo\"\n",
        "print(frase)"
      ],
      "metadata": {
        "colab": {
          "base_uri": "https://localhost:8080/"
        },
        "id": "wJWAqMRT89B5",
        "outputId": "8a2c6bee-41e0-457b-aa2f-e4fb6b913b6d"
      },
      "execution_count": null,
      "outputs": [
        {
          "output_type": "stream",
          "name": "stdout",
          "text": [
            "Olá, mundo\n"
          ]
        }
      ]
    },
    {
      "cell_type": "markdown",
      "source": [
        "Acessando o índice"
      ],
      "metadata": {
        "id": "UG6CSshF90cm"
      }
    },
    {
      "cell_type": "code",
      "source": [
        "print(frase[0])\n"
      ],
      "metadata": {
        "colab": {
          "base_uri": "https://localhost:8080/"
        },
        "id": "Do60efa49wiG",
        "outputId": "f090ea74-410b-4f60-b9f9-bc0fbda383e7"
      },
      "execution_count": null,
      "outputs": [
        {
          "output_type": "stream",
          "name": "stdout",
          "text": [
            "O\n"
          ]
        }
      ]
    },
    {
      "cell_type": "code",
      "source": [
        "print(frase[2])"
      ],
      "metadata": {
        "colab": {
          "base_uri": "https://localhost:8080/"
        },
        "id": "qlDxYv_X-GpE",
        "outputId": "0d2ce44f-e464-4f65-a1c1-1c7dea4880a2"
      },
      "execution_count": null,
      "outputs": [
        {
          "output_type": "stream",
          "name": "stdout",
          "text": [
            "á\n"
          ]
        }
      ]
    },
    {
      "cell_type": "markdown",
      "source": [
        "Manipulações avançadas com String\n",
        "\n",
        "Concatenação"
      ],
      "metadata": {
        "id": "oh-u5XdE_2E3"
      }
    },
    {
      "cell_type": "code",
      "source": [
        "s1 = \"Lógica de Programação\"\n",
        "s1 = s1 + \" e Algoritmos\"\n",
        "print(s1)"
      ],
      "metadata": {
        "colab": {
          "base_uri": "https://localhost:8080/"
        },
        "id": "EdoQMGTE_1kv",
        "outputId": "9ec06b64-2cdf-4b27-bfd0-b2934a074cbb"
      },
      "execution_count": null,
      "outputs": [
        {
          "output_type": "stream",
          "name": "stdout",
          "text": [
            "Lógica de Programação e Algoritmos\n"
          ]
        }
      ]
    },
    {
      "cell_type": "markdown",
      "source": [
        "Repetindo strings de concatenação"
      ],
      "metadata": {
        "id": "e_6LwBGDBCAD"
      }
    },
    {
      "cell_type": "code",
      "source": [
        "s1 = \"A\" + \"-\" * 10 + \"B\"\n",
        "print(s1)"
      ],
      "metadata": {
        "colab": {
          "base_uri": "https://localhost:8080/"
        },
        "id": "cvtP6VyJBBxL",
        "outputId": "e1e26caf-29de-41b6-9c44-1e4df7deade5"
      },
      "execution_count": null,
      "outputs": [
        {
          "output_type": "stream",
          "name": "stdout",
          "text": [
            "A----------B\n"
          ]
        }
      ]
    },
    {
      "cell_type": "markdown",
      "source": [
        "Composição"
      ],
      "metadata": {
        "id": "-OG2IrKlB1mK"
      }
    },
    {
      "cell_type": "code",
      "source": [
        "nota = 8.5\n",
        "s1 = \"Você tirou %f na disciplina de Algoritmos\" % nota\n",
        "print(s1)\n"
      ],
      "metadata": {
        "colab": {
          "base_uri": "https://localhost:8080/"
        },
        "id": "B0GG6VWwB1Ky",
        "outputId": "015ee5cf-6145-4517-e2f3-8410a1c4c76c"
      },
      "execution_count": null,
      "outputs": [
        {
          "output_type": "stream",
          "name": "stdout",
          "text": [
            "Você tirou 8.500000 na disciplina de Algoritmos\n"
          ]
        }
      ]
    },
    {
      "cell_type": "markdown",
      "source": [
        "Limitando as casas decimais"
      ],
      "metadata": {
        "id": "KM2XhknKCMDI"
      }
    },
    {
      "cell_type": "code",
      "source": [
        "nota = 8.5\n",
        "s1 = \"Você tirou %.2f na disciplina de Algoritmos\" % nota\n",
        "print(s1)"
      ],
      "metadata": {
        "colab": {
          "base_uri": "https://localhost:8080/"
        },
        "id": "_Na3HOluCLuq",
        "outputId": "eedebb89-5b9e-476b-e269-da33754a567d"
      },
      "execution_count": null,
      "outputs": [
        {
          "output_type": "stream",
          "name": "stdout",
          "text": [
            "Você tirou 8.50 na disciplina de Algoritmos\n"
          ]
        }
      ]
    },
    {
      "cell_type": "markdown",
      "source": [
        "Várias variáveis"
      ],
      "metadata": {
        "id": "4RzaRzmxCtkf"
      }
    },
    {
      "cell_type": "code",
      "source": [
        "nota = 8.5\n",
        "disciplina = \"Algoritmos\"\n",
        "s1 = \"Você tirou %.2f na disciplina de %s\" % (nota, disciplina)\n",
        "print(s1)"
      ],
      "metadata": {
        "colab": {
          "base_uri": "https://localhost:8080/"
        },
        "id": "02uZYbHhCtQw",
        "outputId": "da58b865-fa6c-48e6-cafb-47b311a588c6"
      },
      "execution_count": null,
      "outputs": [
        {
          "output_type": "stream",
          "name": "stdout",
          "text": [
            "Você tirou 8.50 na disciplina de Algoritmos\n"
          ]
        }
      ]
    },
    {
      "cell_type": "markdown",
      "source": [
        "Composição mais moderna"
      ],
      "metadata": {
        "id": "xT69twKTDevc"
      }
    },
    {
      "cell_type": "code",
      "source": [
        "nota = 8.5\n",
        "disciplina = \"Algoritmos\"\n",
        "s1 = \"Você tirou {} na disciplina de {}\" .format(nota, disciplina)\n",
        "print(s1)"
      ],
      "metadata": {
        "colab": {
          "base_uri": "https://localhost:8080/"
        },
        "id": "oiJRZxfhDeRO",
        "outputId": "49f08c9f-cb0c-46c6-9db9-4288059f17ec"
      },
      "execution_count": null,
      "outputs": [
        {
          "output_type": "stream",
          "name": "stdout",
          "text": [
            "Você tirou 8.5 na disciplina de Algoritmos\n"
          ]
        }
      ]
    },
    {
      "cell_type": "markdown",
      "source": [
        "Fatiamento"
      ],
      "metadata": {
        "id": "WYGrKqiZD3-j"
      }
    },
    {
      "cell_type": "code",
      "source": [
        "s1 = \"Lógica de Programação e Algoritmos\"\n",
        "print(s1[0:6])"
      ],
      "metadata": {
        "colab": {
          "base_uri": "https://localhost:8080/"
        },
        "id": "aawClJ-XD3u0",
        "outputId": "a232c830-f352-494a-ad6a-e8db39427540"
      },
      "execution_count": null,
      "outputs": [
        {
          "output_type": "stream",
          "name": "stdout",
          "text": [
            "Lógica\n"
          ]
        }
      ]
    },
    {
      "cell_type": "code",
      "source": [
        "s1 = \"Lógica de Programação e Algoritmos\"\n",
        "print(s1[24:34])"
      ],
      "metadata": {
        "colab": {
          "base_uri": "https://localhost:8080/"
        },
        "id": "FHJP1MBJEGtq",
        "outputId": "0fcede83-4e0b-4d26-ac9f-9da9a5a3f12b"
      },
      "execution_count": null,
      "outputs": [
        {
          "output_type": "stream",
          "name": "stdout",
          "text": [
            "Algoritmos\n"
          ]
        }
      ]
    },
    {
      "cell_type": "code",
      "source": [
        "s1 = \"Lógica de Programação e Algoritmos\"\n",
        "print(s1[:6])"
      ],
      "metadata": {
        "colab": {
          "base_uri": "https://localhost:8080/"
        },
        "id": "nc6M4Ze1EOEC",
        "outputId": "2ecaa1ff-1f70-457a-e9b0-220334d38842"
      },
      "execution_count": null,
      "outputs": [
        {
          "output_type": "stream",
          "name": "stdout",
          "text": [
            "Lógica\n"
          ]
        }
      ]
    },
    {
      "cell_type": "markdown",
      "source": [
        "Tamanho (length)"
      ],
      "metadata": {
        "id": "yUABpOLvEcrx"
      }
    },
    {
      "cell_type": "code",
      "source": [
        "s1 = \"Lógica de Programação e Algoritmos\"\n",
        "tamanho = len(s1)\n",
        "print(tamanho)"
      ],
      "metadata": {
        "colab": {
          "base_uri": "https://localhost:8080/"
        },
        "id": "NPLxoO5tEcQS",
        "outputId": "e9b1936b-c367-4b35-f66f-a26ab67acb72"
      },
      "execution_count": null,
      "outputs": [
        {
          "output_type": "stream",
          "name": "stdout",
          "text": [
            "34\n"
          ]
        }
      ]
    },
    {
      "cell_type": "markdown",
      "source": [
        "# FUNÇÃO DE ENTRADA E FLUXO DE EXECUÇÃO DO PROGRAMA"
      ],
      "metadata": {
        "id": "eHN6Sq9LynM9"
      }
    },
    {
      "cell_type": "markdown",
      "source": [
        "Função de entrada // input (entrada)"
      ],
      "metadata": {
        "id": "I33AaOipy05L"
      }
    },
    {
      "cell_type": "code",
      "source": [
        "idade = input(\"Qual sua idade? \")\n",
        "print(idade)"
      ],
      "metadata": {
        "colab": {
          "base_uri": "https://localhost:8080/"
        },
        "id": "3wNZ5FKSy4Jm",
        "outputId": "85df18da-dad6-42c5-8614-876efb39ff1d"
      },
      "execution_count": 3,
      "outputs": [
        {
          "output_type": "stream",
          "name": "stdout",
          "text": [
            "Qual sua idade? 41\n",
            "41\n"
          ]
        }
      ]
    },
    {
      "cell_type": "code",
      "source": [
        "nome = input(\"Qual é o seu nome? \")\n",
        "print(\"Olá {}, seja bem vindo(a)!\".format(nome))"
      ],
      "metadata": {
        "colab": {
          "base_uri": "https://localhost:8080/"
        },
        "id": "oPBx5N0CznQJ",
        "outputId": "4d53a025-c5d2-46f0-fa1f-22c4844ad1d3"
      },
      "execution_count": 4,
      "outputs": [
        {
          "output_type": "stream",
          "name": "stdout",
          "text": [
            "Qual é o seu nome? Juliana\n",
            "Olá Juliana, seja bem vindo(a)!\n"
          ]
        }
      ]
    },
    {
      "cell_type": "markdown",
      "source": [
        "Convertendo dados de entrada"
      ],
      "metadata": {
        "id": "NF652Xfv0HN_"
      }
    },
    {
      "cell_type": "code",
      "source": [
        "nota = float(input(\"Qual nota você recebeu na disciplina? \"))\n",
        "print(\"Você recebeu nota {}\".format(nota))\n"
      ],
      "metadata": {
        "colab": {
          "base_uri": "https://localhost:8080/"
        },
        "id": "fE0AkGzN0Kz3",
        "outputId": "3066c164-ea82-4de9-9ebf-2fe915499dc9"
      },
      "execution_count": 5,
      "outputs": [
        {
          "output_type": "stream",
          "name": "stdout",
          "text": [
            "Qual nota você recebeu na disciplina? 8.5\n",
            "Você recebeu nota 8.5\n"
          ]
        }
      ]
    },
    {
      "cell_type": "markdown",
      "source": [
        "# Exercicio"
      ],
      "metadata": {
        "id": "2Qe4pAVu2QYJ"
      }
    },
    {
      "cell_type": "markdown",
      "source": [
        "Desenvolva um algoritmo que solicite ao usuário dois números inteiros.\n",
        "Imprima a soma destes dois números na tela."
      ],
      "metadata": {
        "id": "BugsikE72TuK"
      }
    },
    {
      "cell_type": "code",
      "source": [
        "# Exercicio 2.1\n",
        "x = int(input(\"Digite um número inteiro: \"))\n",
        "y = int(input(\"Digite outro número inteiro: \"))\n",
        "# Maneira Clássica\n",
        "res = \"O resultado da soma de %i com %i é %i.\" % (x, y, x + y)\n",
        "print(res)\n",
        "# Maneira Moderna\n",
        "res = \"O resultado da soma de {} com {} é {}.\".format(x, y, x + y)\n",
        "print(res)"
      ],
      "metadata": {
        "colab": {
          "base_uri": "https://localhost:8080/"
        },
        "id": "BxO3c5x32O8J",
        "outputId": "650268f3-3f07-4547-8388-3155ac320e7f"
      },
      "execution_count": 6,
      "outputs": [
        {
          "output_type": "stream",
          "name": "stdout",
          "text": [
            "Digite um número inteiro: 10\n",
            "Digite outro número inteiro: 15\n",
            "O resultado da soma de 10 com 15 é 25.\n",
            "O resultado da soma de 10 com 15 é 25.\n"
          ]
        }
      ]
    },
    {
      "cell_type": "markdown",
      "source": [
        ""
      ],
      "metadata": {
        "id": "i5lSnlUPyzz0"
      }
    }
  ]
}